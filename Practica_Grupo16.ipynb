{
 "cells": [
  {
   "cell_type": "markdown",
   "id": "df393c30",
   "metadata": {},
   "source": [
    "# Preparación de datos\n",
    "## Importaciones"
   ]
  },
  {
   "cell_type": "code",
   "execution_count": 31,
   "id": "cc99aed4",
   "metadata": {},
   "outputs": [],
   "source": [
    "from dotenv import load_dotenv\n",
    "from sqlalchemy import create_engine, text\n",
    "import matplotlib.pyplot as plt\n",
    "import os\n",
    "import pandas as pd\n",
    "import seaborn as sns"
   ]
  },
  {
   "cell_type": "markdown",
   "id": "a7c47626",
   "metadata": {},
   "source": [
    "## Lectura del Archivo CSV"
   ]
  },
  {
   "cell_type": "code",
   "execution_count": 32,
   "id": "26f20ffe",
   "metadata": {},
   "outputs": [
    {
     "name": "stdout",
     "output_type": "stream",
     "text": [
      "<class 'pandas.core.frame.DataFrame'>\n",
      "RangeIndex: 10002 entries, 0 to 10001\n",
      "Data columns (total 12 columns):\n",
      " #   Column            Non-Null Count  Dtype  \n",
      "---  ------            --------------  -----  \n",
      " 0   order_id          10002 non-null  int64  \n",
      " 1   purchase_date     10002 non-null  object \n",
      " 2   customer_id       10002 non-null  int64  \n",
      " 3   customer_gender   9998 non-null   object \n",
      " 4   customer_age      10000 non-null  float64\n",
      " 5   product_category  10000 non-null  object \n",
      " 6   product_name      9986 non-null   object \n",
      " 7   product_price     10001 non-null  float64\n",
      " 8   quantity          10002 non-null  int64  \n",
      " 9   order_total       10002 non-null  float64\n",
      " 10  payment_method    10000 non-null  object \n",
      " 11  shipping_region   10002 non-null  object \n",
      "dtypes: float64(3), int64(3), object(6)\n",
      "memory usage: 937.8+ KB\n"
     ]
    }
   ],
   "source": [
    "contenido = pd.read_csv('./DB/ventas_tienda_online.csv')\n",
    "contenido.info()"
   ]
  },
  {
   "cell_type": "markdown",
   "id": "c769ae7b",
   "metadata": {},
   "source": [
    "## Limpieza General\n",
    "* Eliminación de filas con valores nulos.\n",
    "* Eliminación de filas duplicadas."
   ]
  },
  {
   "cell_type": "code",
   "execution_count": 33,
   "id": "846e3010",
   "metadata": {},
   "outputs": [
    {
     "name": "stdout",
     "output_type": "stream",
     "text": [
      "<class 'pandas.core.frame.DataFrame'>\n",
      "Index: 9977 entries, 0 to 9999\n",
      "Data columns (total 12 columns):\n",
      " #   Column            Non-Null Count  Dtype  \n",
      "---  ------            --------------  -----  \n",
      " 0   order_id          9977 non-null   int64  \n",
      " 1   purchase_date     9977 non-null   object \n",
      " 2   customer_id       9977 non-null   int64  \n",
      " 3   customer_gender   9977 non-null   object \n",
      " 4   customer_age      9977 non-null   float64\n",
      " 5   product_category  9977 non-null   object \n",
      " 6   product_name      9977 non-null   object \n",
      " 7   product_price     9977 non-null   float64\n",
      " 8   quantity          9977 non-null   int64  \n",
      " 9   order_total       9977 non-null   float64\n",
      " 10  payment_method    9977 non-null   object \n",
      " 11  shipping_region   9977 non-null   object \n",
      "dtypes: float64(3), int64(3), object(6)\n",
      "memory usage: 1013.3+ KB\n",
      "Registros después de la limpieza: 9977\n"
     ]
    }
   ],
   "source": [
    "contenido.dropna(inplace=True)\n",
    "contenido.drop_duplicates(inplace=True)\n",
    "\n",
    "contenido.info()\n",
    "print(f'Registros después de la limpieza: {len(contenido)}')"
   ]
  },
  {
   "cell_type": "markdown",
   "id": "59d03fc3",
   "metadata": {},
   "source": [
    "## DataFrame de Clientes"
   ]
  },
  {
   "cell_type": "code",
   "execution_count": 34,
   "id": "6c2e43fd",
   "metadata": {},
   "outputs": [
    {
     "name": "stdout",
     "output_type": "stream",
     "text": [
      "      customer_id customer_gender  customer_age\n",
      "0             822       Masculino          18.0\n",
      "1             139        Femenino          18.0\n",
      "2              86       Masculino          18.0\n",
      "3             473       Masculino          18.0\n",
      "4             113       Masculino          18.0\n",
      "...           ...             ...           ...\n",
      "5583          417       Masculino          52.0\n",
      "5625           52       Masculino          52.0\n",
      "7265          969       Masculino          63.0\n",
      "7524          299        Femenino          64.0\n",
      "8607          545        Femenino          71.0\n",
      "\n",
      "[1000 rows x 3 columns]\n"
     ]
    }
   ],
   "source": [
    "clientes = contenido[['customer_id', 'customer_gender', 'customer_age']]\\\n",
    "    .drop_duplicates(subset=['customer_id'])\n",
    "\n",
    "print(clientes)"
   ]
  },
  {
   "cell_type": "markdown",
   "id": "9a56cb2e",
   "metadata": {},
   "source": [
    "## DataFrame de Categorias"
   ]
  },
  {
   "cell_type": "code",
   "execution_count": 35,
   "id": "d140b10c",
   "metadata": {},
   "outputs": [
    {
     "name": "stdout",
     "output_type": "stream",
     "text": [
      "  product_category  category_id\n",
      "0       Accesorios            1\n",
      "1             Ropa            2\n",
      "2          Calzado            3\n"
     ]
    }
   ],
   "source": [
    "categorias = contenido[['product_category']].drop_duplicates().reset_index(drop=True)\n",
    "categorias['category_id'] = categorias.index + 1\n",
    "\n",
    "print(categorias)"
   ]
  },
  {
   "cell_type": "markdown",
   "id": "a7ee900a",
   "metadata": {},
   "source": [
    "## DataFrame de Productos"
   ]
  },
  {
   "cell_type": "code",
   "execution_count": 36,
   "id": "ee0c4454",
   "metadata": {},
   "outputs": [
    {
     "name": "stdout",
     "output_type": "stream",
     "text": [
      "     product_name  product_price  category_id  product_id\n",
      "0           Bolso          90.72            1           1\n",
      "1        Pantalón         131.68            2           2\n",
      "2      Zapatillas          36.18            3           3\n",
      "3         Vestido          78.55            2           4\n",
      "4       Sandalias         116.37            3           5\n",
      "...           ...            ...          ...         ...\n",
      "9798     Cinturón          23.95            1        9799\n",
      "9799     Pantalón         159.97            2        9800\n",
      "9800    Pantuflas         158.81            3        9801\n",
      "9801     Pantalón          28.25            2        9802\n",
      "9802        Bolso         168.09            1        9803\n",
      "\n",
      "[9803 rows x 4 columns]\n"
     ]
    }
   ],
   "source": [
    "productos = contenido[['product_name', 'product_category', 'product_price']].drop_duplicates()\n",
    "productos = productos.merge(categorias, on='product_category')\\\n",
    "    .drop(columns=['product_category'])\n",
    "productos['product_id'] = productos.index + 1\n",
    "\n",
    "print(productos)"
   ]
  },
  {
   "cell_type": "markdown",
   "id": "2b7cc7bc",
   "metadata": {},
   "source": [
    "## DataFrame de Métodos de Pago"
   ]
  },
  {
   "cell_type": "code",
   "execution_count": 37,
   "id": "5f7607fb",
   "metadata": {},
   "outputs": [
    {
     "name": "stdout",
     "output_type": "stream",
     "text": [
      "           payment_method  payment_method_id\n",
      "0                  PayPal                  1\n",
      "1  Transferencia bancaria                  2\n",
      "2      Tarjeta de crédito                  3\n",
      "3                Efectivo                  4\n"
     ]
    }
   ],
   "source": [
    "metodos_pago = contenido[['payment_method']].drop_duplicates().reset_index(drop=True)\n",
    "metodos_pago['payment_method_id'] = metodos_pago.index + 1\n",
    "\n",
    "print(metodos_pago)"
   ]
  },
  {
   "cell_type": "markdown",
   "id": "4fb7e83b",
   "metadata": {},
   "source": [
    "## DataFrame de Regiones de Envío"
   ]
  },
  {
   "cell_type": "code",
   "execution_count": 38,
   "id": "05aad3a8",
   "metadata": {},
   "outputs": [
    {
     "name": "stdout",
     "output_type": "stream",
     "text": [
      "  shipping_region  region_id\n",
      "0           Oeste          1\n",
      "1            Este          2\n",
      "2          Centro          3\n",
      "3           Norte          4\n",
      "4             Sur          5\n"
     ]
    }
   ],
   "source": [
    "regiones_envio = contenido[['shipping_region']].drop_duplicates().reset_index(drop=True)\n",
    "regiones_envio['region_id'] = regiones_envio.index + 1\n",
    "\n",
    "print(regiones_envio)"
   ]
  },
  {
   "cell_type": "markdown",
   "id": "9191aa40",
   "metadata": {},
   "source": [
    "## DataFrame de Órdenes"
   ]
  },
  {
   "cell_type": "code",
   "execution_count": 39,
   "id": "d1378496",
   "metadata": {},
   "outputs": [
    {
     "name": "stdout",
     "output_type": "stream",
     "text": [
      "      order_id purchase_date  customer_id  payment_method_id  region_id\n",
      "0           96       8/12/23          822                  1          1\n",
      "1          142       3/09/23          139                  1          1\n",
      "2          216      24/08/23           86                  2          2\n",
      "3          235      15/03/23          473                  2          3\n",
      "4          284      24/04/23          113                  3          4\n",
      "...        ...           ...          ...                ...        ...\n",
      "9972      9702      16/04/23          765                  4          5\n",
      "9973      9774      21/04/23          774                  2          4\n",
      "9974      9830      17/10/23          883                  1          2\n",
      "9975      9886       5/11/23          306                  4          3\n",
      "9976      9965      13/02/23          226                  4          5\n",
      "\n",
      "[9977 rows x 5 columns]\n"
     ]
    }
   ],
   "source": [
    "ordenes = contenido[['order_id', 'purchase_date', 'customer_id', 'payment_method', 'shipping_region']].drop_duplicates()\n",
    "ordenes = ordenes.merge(metodos_pago, on='payment_method')\\\n",
    "    .merge(regiones_envio, on='shipping_region')\\\n",
    "    .drop(columns=['payment_method', 'shipping_region'])\n",
    "\n",
    "print(ordenes)"
   ]
  },
  {
   "cell_type": "markdown",
   "id": "95ed130a",
   "metadata": {},
   "source": [
    "## DataFrame de Orden Producto"
   ]
  },
  {
   "cell_type": "code",
   "execution_count": 40,
   "id": "ee9f14a2",
   "metadata": {},
   "outputs": [
    {
     "name": "stdout",
     "output_type": "stream",
     "text": [
      "         order_id  product_id  quantity  order_total    id\n",
      "0              96           1         3       272.16     1\n",
      "631           142           2         3       395.04     2\n",
      "1273          216           3         1        36.18     3\n",
      "1932          235           4         5       392.75     4\n",
      "2551          284           5         1       116.37     5\n",
      "...           ...         ...       ...          ...   ...\n",
      "6522895      9702          12         2        47.90  9973\n",
      "6523561      9774           2         3       479.91  9974\n",
      "6524203      9830          14         2       317.62  9975\n",
      "6524859      9886           2         4       113.00  9976\n",
      "6525501      9965           1         4       672.36  9977\n",
      "\n",
      "[9977 rows x 5 columns]\n"
     ]
    }
   ],
   "source": [
    "orden_producto = contenido[['order_id', 'product_name', 'quantity', 'order_total']]\n",
    "orden_producto = orden_producto.merge(productos[['product_name', 'product_id']], on='product_name')\\\n",
    "    .dropna(subset=['product_id', 'order_id'])\\\n",
    "    .drop(columns=['product_name'])\n",
    "orden_producto = orden_producto[['order_id', 'product_id', 'quantity', 'order_total']]\n",
    "orden_producto = orden_producto.drop_duplicates(subset=['order_id'])\n",
    "orden_producto['id'] = list(range(1, len(orden_producto.index) + 1))\n",
    "\n",
    "print(orden_producto)"
   ]
  },
  {
   "cell_type": "markdown",
   "id": "a516b06c",
   "metadata": {},
   "source": [
    "## Renombrando las Columnas de los DataFrames\n",
    "Para que estén similares a los campos de la base de datos."
   ]
  },
  {
   "cell_type": "code",
   "execution_count": 41,
   "id": "7aa2dab1",
   "metadata": {},
   "outputs": [],
   "source": [
    "categorias = categorias.rename(columns={'category_id': 'id', 'product_category': 'nombre'})\n",
    "productos = productos.rename(columns={\n",
    "    'product_id': 'id', 'product_name': 'nombre', 'product_price': 'precio', 'category_id': 'categoria'\n",
    "})\n",
    "clientes = clientes.rename(columns={\n",
    "    'customer_id': 'id', 'customer_gender': 'genero', 'customer_age': 'edad'\n",
    "})\n",
    "metodos_pago = metodos_pago.rename(columns={\n",
    "    'payment_method_id': 'id', 'payment_method': 'nombre'\n",
    "})\n",
    "regiones_envio = regiones_envio.rename(columns={\n",
    "    'region_id': 'id', 'shipping_region': 'nombre'\n",
    "})\n",
    "ordenes = ordenes.rename(columns={\n",
    "    'order_id': 'id', 'purchase_date': 'fecha_compra', 'customer_id': 'cliente',\n",
    "    'payment_method_id': 'metodo_pago', 'region_id': 'region_envio'\n",
    "})\n",
    "orden_producto = orden_producto.rename(columns={\n",
    "    'order_id': 'orden', 'product_id': 'producto', 'quantity': 'cantidad', 'order_total': 'total'\n",
    "})"
   ]
  },
  {
   "cell_type": "markdown",
   "id": "48d9381d",
   "metadata": {},
   "source": [
    "## Carga de Variables de Entorno"
   ]
  },
  {
   "cell_type": "code",
   "execution_count": 42,
   "id": "74527f0d",
   "metadata": {},
   "outputs": [],
   "source": [
    "load_dotenv()\n",
    "\n",
    "host = os.getenv(\"DB_HOST\", \"localhost\")\n",
    "port = os.getenv(\"DB_PORT\", \"3306\")\n",
    "user = os.getenv(\"DB_USER\")\n",
    "password = os.getenv(\"DB_PASS\")\n",
    "bd = os.getenv(\"DB_NAME\")"
   ]
  },
  {
   "cell_type": "markdown",
   "id": "4fa923ff",
   "metadata": {},
   "source": [
    "## Conector"
   ]
  },
  {
   "cell_type": "code",
   "execution_count": 43,
   "id": "9ec521b2",
   "metadata": {},
   "outputs": [],
   "source": [
    "engine = create_engine(f'mysql+mysqlconnector://{user}:{password}@{host}:{port}/{bd}')"
   ]
  },
  {
   "cell_type": "markdown",
   "id": "a5b32368",
   "metadata": {},
   "source": [
    "## Vaciado de Tablas"
   ]
  },
  {
   "cell_type": "code",
   "execution_count": 44,
   "id": "6963d842",
   "metadata": {},
   "outputs": [],
   "source": [
    "with engine.begin() as conn:\n",
    "    conn.execute(text(\"SET FOREIGN_KEY_CHECKS = 0\"))\n",
    "    conn.execute(text(\"TRUNCATE TABLE orden_producto\"))\n",
    "    conn.execute(text(\"TRUNCATE TABLE orden\"))\n",
    "    conn.execute(text(\"TRUNCATE TABLE producto\"))\n",
    "    conn.execute(text(\"TRUNCATE TABLE cliente\"))\n",
    "    conn.execute(text(\"TRUNCATE TABLE categoria\"))\n",
    "    conn.execute(text(\"TRUNCATE TABLE metodo_pago\"))\n",
    "    conn.execute(text(\"TRUNCATE TABLE region_envio\"))\n",
    "    conn.execute(text(\"SET FOREIGN_KEY_CHECKS = 1\"))"
   ]
  },
  {
   "cell_type": "markdown",
   "id": "ffff12ce",
   "metadata": {},
   "source": [
    "## Inserción de Datos"
   ]
  },
  {
   "cell_type": "code",
   "execution_count": 45,
   "id": "28b75c84",
   "metadata": {},
   "outputs": [
    {
     "data": {
      "text/plain": [
       "9977"
      ]
     },
     "execution_count": 45,
     "metadata": {},
     "output_type": "execute_result"
    }
   ],
   "source": [
    "categorias.to_sql('categoria', con=engine, if_exists='append', index=False)\n",
    "productos.to_sql('producto', con=engine, if_exists='append', index=False)\n",
    "clientes.to_sql('cliente', con=engine, if_exists='append', index=False)\n",
    "metodos_pago.to_sql('metodo_pago', con=engine, if_exists='append', index=False)\n",
    "regiones_envio.to_sql('region_envio', con=engine, if_exists='append', index=False)\n",
    "ordenes.to_sql('orden', con=engine, if_exists='append', index=False)\n",
    "orden_producto.to_sql('orden_producto', con=engine, if_exists='append', index=False)"
   ]
  },
  {
   "cell_type": "markdown",
   "id": "7f7f0fda",
   "metadata": {},
   "source": [
    "# Análisis Exploratorio\n",
    "## Obtener los datos de la base de datos"
   ]
  },
  {
   "cell_type": "code",
   "execution_count": 46,
   "id": "08b83ae5",
   "metadata": {},
   "outputs": [],
   "source": [
    "orden_producto = pd.read_sql(\"SELECT * FROM orden_producto\", engine)\n",
    "producto = pd.read_sql(\"SELECT * FROM producto\", engine)\n",
    "categoria = pd.read_sql(\"SELECT * FROM categoria\", engine)\n",
    "orden = pd.read_sql(\"SELECT * FROM orden\", engine)\n",
    "region = pd.read_sql(\"SELECT * FROM region_envio\", engine)"
   ]
  },
  {
   "cell_type": "code",
   "execution_count": 51,
   "id": "050e7fc8",
   "metadata": {},
   "outputs": [
    {
     "name": "stdout",
     "output_type": "stream",
     "text": [
      "        id   total  orden  producto  cantidad  id_producto nombre_producto  \\\n",
      "0        1  272.16     96         1         3            1           Bolso   \n",
      "1        2  395.04    142         2         3            2        Pantalón   \n",
      "2        3   36.18    216         3         1            3      Zapatillas   \n",
      "3        4  392.75    235         4         5            4         Vestido   \n",
      "4        5  116.37    284         5         1            5       Sandalias   \n",
      "...    ...     ...    ...       ...       ...          ...             ...   \n",
      "9972  9973   47.90   9702        12         2           12        Cinturón   \n",
      "9973  9974  479.91   9774         2         3            2        Pantalón   \n",
      "9974  9975  317.62   9830        14         2           14       Pantuflas   \n",
      "9975  9976  113.00   9886         2         4            2        Pantalón   \n",
      "9976  9977  672.36   9965         1         4            1           Bolso   \n",
      "\n",
      "      categoria  precio  id_categoria nombre_categoria  id_orden fecha_compra  \\\n",
      "0             1   90.72             1       Accesorios        96   0008-12-23   \n",
      "1             2  131.68             2             Ropa       142   0003-09-23   \n",
      "2             3   36.18             3          Calzado       216   2024-08-23   \n",
      "3             2   78.55             2             Ropa       235   2015-03-23   \n",
      "4             3  116.37             3          Calzado       284   2024-04-23   \n",
      "...         ...     ...           ...              ...       ...          ...   \n",
      "9972          1   87.52             1       Accesorios      9702   2016-04-23   \n",
      "9973          2  131.68             2             Ropa      9774   2021-04-23   \n",
      "9974          3  110.07             3          Calzado      9830   2017-10-23   \n",
      "9975          2  131.68             2             Ropa      9886   0005-11-23   \n",
      "9976          1   90.72             1       Accesorios      9965   2013-02-23   \n",
      "\n",
      "      cliente  metodo_pago  region_envio  id_region  nombre  \n",
      "0         822            1             1          1   Oeste  \n",
      "1         139            1             1          1   Oeste  \n",
      "2          86            2             2          2    Este  \n",
      "3         473            2             3          3  Centro  \n",
      "4         113            3             4          4   Norte  \n",
      "...       ...          ...           ...        ...     ...  \n",
      "9972      765            4             5          5     Sur  \n",
      "9973      774            2             4          4   Norte  \n",
      "9974      883            1             2          2    Este  \n",
      "9975      306            4             3          3  Centro  \n",
      "9976      226            4             5          5     Sur  \n",
      "\n",
      "[9977 rows x 18 columns]\n"
     ]
    }
   ],
   "source": [
    "producto_categoria = producto.merge(categoria, left_on=\"categoria\", right_on=\"id\", suffixes=('_producto', '_categoria'))\n",
    "ventas = orden_producto.merge(producto_categoria, left_on=\"producto\", right_on=\"id_producto\")\n",
    "ventas = ventas.merge(orden, left_on=\"orden\", right_on=\"id\", suffixes=('', '_orden'))\n",
    "ventas = ventas.merge(region, left_on=\"region_envio\", right_on=\"id\", suffixes=('', '_region'))\n",
    "print(ventas)"
   ]
  },
  {
   "cell_type": "markdown",
   "id": "6635cb02",
   "metadata": {},
   "source": [
    "## Estadísticas Básicas"
   ]
  },
  {
   "cell_type": "code",
   "execution_count": 48,
   "id": "5783586f",
   "metadata": {},
   "outputs": [
    {
     "name": "stdout",
     "output_type": "stream",
     "text": [
      "            precio  cantidad       total\n",
      "mean     94.807325    3.0002  314.673617\n",
      "median   90.720000    3.0000  254.950000\n",
      "mode    170.940000    2.0000  150.200000\n"
     ]
    }
   ],
   "source": [
    "estadisticas = ventas[[\"precio\", \"cantidad\", \"total\"]].agg(['mean', 'median'])\n",
    "\n",
    "moda = ventas[[\"precio\", \"cantidad\", \"total\"]].mode().iloc[0]\n",
    "estadisticas.loc[\"mode\"] = moda\n",
    "\n",
    "print(estadisticas)"
   ]
  },
  {
   "cell_type": "markdown",
   "id": "ae27cf02",
   "metadata": {},
   "source": [
    "## Visualizaciones\n",
    "### Ventas por Categoría de Producto"
   ]
  },
  {
   "cell_type": "code",
   "execution_count": 49,
   "id": "5ba1c1e6",
   "metadata": {},
   "outputs": [
    {
     "data": {
      "image/png": "[encoded data removed]",
      "text/plain": [
       "<Figure size 1000x600 with 1 Axes>"
      ]
     },
     "metadata": {},
     "output_type": "display_data"
    }
   ],
   "source": [
    "ventas_por_categoria = ventas.groupby(\"nombre_categoria\")[\"total\"].sum().reset_index()\n",
    "\n",
    "plt.figure(figsize=(10, 6))\n",
    "sns.barplot(data=ventas_por_categoria, x=\"nombre_categoria\", y=\"total\")\n",
    "plt.title(\"Ventas por Categoría de Producto\")\n",
    "plt.xticks(rotation=45)\n",
    "plt.ylabel(\"Total de ventas\")\n",
    "plt.xlabel(\"Categoría\")\n",
    "plt.tight_layout()\n",
    "plt.show()"
   ]
  },
  {
   "cell_type": "code",
   "execution_count": 50,
   "id": "a51bb34f",
   "metadata": {},
   "outputs": [
    {
     "data": {
      "image/png": "[encoded data removed]",
      "text/plain": [
       "<Figure size 1000x600 with 1 Axes>"
      ]
     },
     "metadata": {},
     "output_type": "display_data"
    }
   ],
   "source": [
    "ventas_por_region = ventas.groupby(\"nombre\")[\"total\"].sum().reset_index()\n",
    "\n",
    "plt.figure(figsize=(10, 6))\n",
    "sns.barplot(data=ventas_por_region, x=\"nombre\", y=\"total\")\n",
    "plt.title(\"Ventas por Región de Envío\")\n",
    "plt.ylabel(\"Total de ventas\")\n",
    "plt.xlabel(\"Región\")\n",
    "plt.tight_layout()\n",
    "plt.show()"
   ]
  }
 ],
 "metadata": {
  "kernelspec": {
   "display_name": "Python 3",
   "language": "python",
   "name": "python3"
  },
  "language_info": {
   "codemirror_mode": {
    "name": "ipython",
    "version": 3
   },
   "file_extension": ".py",
   "mimetype": "text/x-python",
   "name": "python",
   "nbconvert_exporter": "python",
   "pygments_lexer": "ipython3",
   "version": "3.11.4"
  }
 },
 "nbformat": 4,
 "nbformat_minor": 5
}
