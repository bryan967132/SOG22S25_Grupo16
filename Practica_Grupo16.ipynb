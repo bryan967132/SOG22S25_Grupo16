{
 "cells": [
  {
   "cell_type": "code",
   "execution_count": 112,
   "id": "cc99aed4",
   "metadata": {},
   "outputs": [],
   "source": [
    "import pandas as pd\n",
    "from sqlalchemy import create_engine\n",
    "from sqlalchemy import text\n",
    "from dotenv import load_dotenv\n",
    "import os"
   ]
  },
  {
   "cell_type": "code",
   "execution_count": 113,
   "id": "26f20ffe",
   "metadata": {},
   "outputs": [
    {
     "name": "stdout",
     "output_type": "stream",
     "text": [
      "<class 'pandas.core.frame.DataFrame'>\n",
      "RangeIndex: 10002 entries, 0 to 10001\n",
      "Data columns (total 12 columns):\n",
      " #   Column            Non-Null Count  Dtype  \n",
      "---  ------            --------------  -----  \n",
      " 0   order_id          10002 non-null  int64  \n",
      " 1   purchase_date     10002 non-null  object \n",
      " 2   customer_id       10002 non-null  int64  \n",
      " 3   customer_gender   9998 non-null   object \n",
      " 4   customer_age      10000 non-null  float64\n",
      " 5   product_category  10000 non-null  object \n",
      " 6   product_name      9986 non-null   object \n",
      " 7   product_price     10001 non-null  float64\n",
      " 8   quantity          10002 non-null  int64  \n",
      " 9   order_total       10002 non-null  float64\n",
      " 10  payment_method    10000 non-null  object \n",
      " 11  shipping_region   10002 non-null  object \n",
      "dtypes: float64(3), int64(3), object(6)\n",
      "memory usage: 937.8+ KB\n"
     ]
    }
   ],
   "source": [
    "contenido = pd.read_csv('./DB/ventas_tienda_online.csv')\n",
    "contenido.info()"
   ]
  },
  {
   "cell_type": "code",
   "execution_count": 114,
   "id": "846e3010",
   "metadata": {},
   "outputs": [
    {
     "name": "stdout",
     "output_type": "stream",
     "text": [
      "<class 'pandas.core.frame.DataFrame'>\n",
      "Index: 9977 entries, 0 to 9999\n",
      "Data columns (total 12 columns):\n",
      " #   Column            Non-Null Count  Dtype  \n",
      "---  ------            --------------  -----  \n",
      " 0   order_id          9977 non-null   int64  \n",
      " 1   purchase_date     9977 non-null   object \n",
      " 2   customer_id       9977 non-null   int64  \n",
      " 3   customer_gender   9977 non-null   object \n",
      " 4   customer_age      9977 non-null   float64\n",
      " 5   product_category  9977 non-null   object \n",
      " 6   product_name      9977 non-null   object \n",
      " 7   product_price     9977 non-null   float64\n",
      " 8   quantity          9977 non-null   int64  \n",
      " 9   order_total       9977 non-null   float64\n",
      " 10  payment_method    9977 non-null   object \n",
      " 11  shipping_region   9977 non-null   object \n",
      "dtypes: float64(3), int64(3), object(6)\n",
      "memory usage: 1013.3+ KB\n",
      "Registros después de la limpieza: 9977\n"
     ]
    }
   ],
   "source": [
    "contenido.dropna(inplace=True)\n",
    "contenido.drop_duplicates(inplace=True)\n",
    "\n",
    "contenido.info()\n",
    "print(f'Registros después de la limpieza: {len(contenido)}')"
   ]
  },
  {
   "cell_type": "code",
   "execution_count": 115,
   "id": "6c2e43fd",
   "metadata": {},
   "outputs": [
    {
     "name": "stdout",
     "output_type": "stream",
     "text": [
      "      customer_id customer_gender  customer_age\n",
      "0             822       Masculino          18.0\n",
      "1             139        Femenino          18.0\n",
      "2              86       Masculino          18.0\n",
      "3             473       Masculino          18.0\n",
      "4             113       Masculino          18.0\n",
      "...           ...             ...           ...\n",
      "5583          417       Masculino          52.0\n",
      "5625           52       Masculino          52.0\n",
      "7265          969       Masculino          63.0\n",
      "7524          299        Femenino          64.0\n",
      "8607          545        Femenino          71.0\n",
      "\n",
      "[1000 rows x 3 columns]\n"
     ]
    }
   ],
   "source": [
    "clientes = contenido[['customer_id', 'customer_gender', 'customer_age']]\\\n",
    "    .drop_duplicates(subset=['customer_id'])\n",
    "\n",
    "print(clientes)"
   ]
  },
  {
   "cell_type": "code",
   "execution_count": 116,
   "id": "d140b10c",
   "metadata": {},
   "outputs": [
    {
     "name": "stdout",
     "output_type": "stream",
     "text": [
      "  product_category  category_id\n",
      "0       Accesorios            1\n",
      "1             Ropa            2\n",
      "2          Calzado            3\n"
     ]
    }
   ],
   "source": [
    "categorias = contenido[['product_category']].drop_duplicates().reset_index(drop=True)\n",
    "categorias['category_id'] = categorias.index + 1\n",
    "\n",
    "print(categorias)"
   ]
  },
  {
   "cell_type": "code",
   "execution_count": 117,
   "id": "ee0c4454",
   "metadata": {},
   "outputs": [
    {
     "name": "stdout",
     "output_type": "stream",
     "text": [
      "     product_name  product_price  category_id  product_id\n",
      "0           Bolso          90.72            1           1\n",
      "1        Pantalón         131.68            2           2\n",
      "2      Zapatillas          36.18            3           3\n",
      "3         Vestido          78.55            2           4\n",
      "4       Sandalias         116.37            3           5\n",
      "...           ...            ...          ...         ...\n",
      "9798     Cinturón          23.95            1        9799\n",
      "9799     Pantalón         159.97            2        9800\n",
      "9800    Pantuflas         158.81            3        9801\n",
      "9801     Pantalón          28.25            2        9802\n",
      "9802        Bolso         168.09            1        9803\n",
      "\n",
      "[9803 rows x 4 columns]\n"
     ]
    }
   ],
   "source": [
    "productos = contenido[['product_name', 'product_category', 'product_price']].drop_duplicates()\n",
    "productos = productos.merge(categorias, on='product_category')\\\n",
    "    .drop(columns=['product_category'])\n",
    "productos['product_id'] = productos.index + 1\n",
    "\n",
    "print(productos)"
   ]
  },
  {
   "cell_type": "code",
   "execution_count": 118,
   "id": "5f7607fb",
   "metadata": {},
   "outputs": [
    {
     "name": "stdout",
     "output_type": "stream",
     "text": [
      "           payment_method  payment_method_id\n",
      "0                  PayPal                  1\n",
      "1  Transferencia bancaria                  2\n",
      "2      Tarjeta de crédito                  3\n",
      "3                Efectivo                  4\n"
     ]
    }
   ],
   "source": [
    "metodos_pago = contenido[['payment_method']].drop_duplicates().reset_index(drop=True)\n",
    "metodos_pago['payment_method_id'] = metodos_pago.index + 1\n",
    "\n",
    "print(metodos_pago)"
   ]
  },
  {
   "cell_type": "code",
   "execution_count": 119,
   "id": "05aad3a8",
   "metadata": {},
   "outputs": [
    {
     "name": "stdout",
     "output_type": "stream",
     "text": [
      "  shipping_region  region_id\n",
      "0           Oeste          1\n",
      "1            Este          2\n",
      "2          Centro          3\n",
      "3           Norte          4\n",
      "4             Sur          5\n"
     ]
    }
   ],
   "source": [
    "regiones_envio = contenido[['shipping_region']].drop_duplicates().reset_index(drop=True)\n",
    "regiones_envio['region_id'] = regiones_envio.index + 1\n",
    "\n",
    "print(regiones_envio)"
   ]
  },
  {
   "cell_type": "code",
   "execution_count": 120,
   "id": "d1378496",
   "metadata": {},
   "outputs": [
    {
     "name": "stdout",
     "output_type": "stream",
     "text": [
      "      order_id purchase_date  customer_id  payment_method_id  region_id\n",
      "0           96       8/12/23          822                  1          1\n",
      "1          142       3/09/23          139                  1          1\n",
      "2          216      24/08/23           86                  2          2\n",
      "3          235      15/03/23          473                  2          3\n",
      "4          284      24/04/23          113                  3          4\n",
      "...        ...           ...          ...                ...        ...\n",
      "9972      9702      16/04/23          765                  4          5\n",
      "9973      9774      21/04/23          774                  2          4\n",
      "9974      9830      17/10/23          883                  1          2\n",
      "9975      9886       5/11/23          306                  4          3\n",
      "9976      9965      13/02/23          226                  4          5\n",
      "\n",
      "[9977 rows x 5 columns]\n"
     ]
    }
   ],
   "source": [
    "ordenes = contenido[['order_id', 'purchase_date', 'customer_id', 'payment_method', 'shipping_region']].drop_duplicates()\n",
    "ordenes = ordenes.merge(metodos_pago, on='payment_method')\\\n",
    "    .merge(regiones_envio, on='shipping_region')\\\n",
    "    .drop(columns=['payment_method', 'shipping_region'])\n",
    "\n",
    "print(ordenes)"
   ]
  },
  {
   "cell_type": "code",
   "execution_count": 121,
   "id": "ee9f14a2",
   "metadata": {},
   "outputs": [
    {
     "name": "stdout",
     "output_type": "stream",
     "text": [
      "         order_id  product_id  quantity  order_total    id\n",
      "0              96           1         3       272.16     1\n",
      "631           142           2         3       395.04     2\n",
      "1273          216           3         1        36.18     3\n",
      "1932          235           4         5       392.75     4\n",
      "2551          284           5         1       116.37     5\n",
      "...           ...         ...       ...          ...   ...\n",
      "6522895      9702          12         2        47.90  9973\n",
      "6523561      9774           2         3       479.91  9974\n",
      "6524203      9830          14         2       317.62  9975\n",
      "6524859      9886           2         4       113.00  9976\n",
      "6525501      9965           1         4       672.36  9977\n",
      "\n",
      "[9977 rows x 5 columns]\n"
     ]
    }
   ],
   "source": [
    "orden_producto = contenido[['order_id', 'product_name', 'quantity', 'order_total']]\n",
    "orden_producto = orden_producto.merge(productos[['product_name', 'product_id']], on='product_name')\\\n",
    "    .dropna(subset=['product_id', 'order_id'])\\\n",
    "    .drop(columns=['product_name'])\n",
    "orden_producto = orden_producto[['order_id', 'product_id', 'quantity', 'order_total']]\n",
    "orden_producto = orden_producto.drop_duplicates(subset=['order_id'])\n",
    "orden_producto['id'] = list(range(1, len(orden_producto.index) + 1))\n",
    "\n",
    "print(orden_producto)"
   ]
  },
  {
   "cell_type": "code",
   "execution_count": 122,
   "id": "74527f0d",
   "metadata": {},
   "outputs": [],
   "source": [
    "load_dotenv()\n",
    "\n",
    "host = os.getenv(\"DB_HOST\", \"localhost\")\n",
    "port = os.getenv(\"DB_PORT\", \"3306\")\n",
    "user = os.getenv(\"DB_USER\")\n",
    "password = os.getenv(\"DB_PASS\")\n",
    "bd = os.getenv(\"DB_NAME\")\n",
    "\n",
    "engine = create_engine(f'mysql+mysqlconnector://{user}:{password}@{host}:{port}/{bd}')\n",
    "\n",
    "categorias = categorias.rename(columns={'category_id': 'id', 'product_category': 'nombre'})\n",
    "productos = productos.rename(columns={\n",
    "    'product_id': 'id', 'product_name': 'nombre', 'product_price': 'precio', 'category_id': 'categoria'\n",
    "})\n",
    "clientes = clientes.rename(columns={\n",
    "    'customer_id': 'id', 'customer_gender': 'genero', 'customer_age': 'edad'\n",
    "})\n",
    "metodos_pago = metodos_pago.rename(columns={\n",
    "    'payment_method_id': 'id', 'payment_method': 'nombre'\n",
    "})\n",
    "regiones_envio = regiones_envio.rename(columns={\n",
    "    'region_id': 'id', 'shipping_region': 'nombre'\n",
    "})\n",
    "ordenes = ordenes.rename(columns={\n",
    "    'order_id': 'id', 'purchase_date': 'fecha_compra', 'customer_id': 'cliente',\n",
    "    'payment_method_id': 'metodo_pago', 'region_id': 'region_envio'\n",
    "})\n",
    "orden_producto = orden_producto.rename(columns={\n",
    "    'order_id': 'orden', 'product_id': 'producto', 'quantity': 'cantidad', 'order_total': 'total'\n",
    "})"
   ]
  },
  {
   "cell_type": "code",
   "execution_count": 123,
   "id": "6963d842",
   "metadata": {},
   "outputs": [],
   "source": [
    "with engine.begin() as conn:\n",
    "    conn.execute(text(\"SET FOREIGN_KEY_CHECKS = 0\"))\n",
    "    conn.execute(text(\"TRUNCATE TABLE orden_producto\"))\n",
    "    conn.execute(text(\"TRUNCATE TABLE orden\"))\n",
    "    conn.execute(text(\"TRUNCATE TABLE producto\"))\n",
    "    conn.execute(text(\"TRUNCATE TABLE cliente\"))\n",
    "    conn.execute(text(\"TRUNCATE TABLE categoria\"))\n",
    "    conn.execute(text(\"TRUNCATE TABLE metodo_pago\"))\n",
    "    conn.execute(text(\"TRUNCATE TABLE region_envio\"))\n",
    "    conn.execute(text(\"SET FOREIGN_KEY_CHECKS = 1\"))"
   ]
  },
  {
   "cell_type": "code",
   "execution_count": 124,
   "id": "28b75c84",
   "metadata": {},
   "outputs": [
    {
     "data": {
      "text/plain": [
       "9977"
      ]
     },
     "execution_count": 124,
     "metadata": {},
     "output_type": "execute_result"
    }
   ],
   "source": [
    "categorias.to_sql('categoria', con=engine, if_exists='append', index=False)\n",
    "productos.to_sql('producto', con=engine, if_exists='append', index=False)\n",
    "clientes.to_sql('cliente', con=engine, if_exists='append', index=False)\n",
    "metodos_pago.to_sql('metodo_pago', con=engine, if_exists='append', index=False)\n",
    "regiones_envio.to_sql('region_envio', con=engine, if_exists='append', index=False)\n",
    "ordenes.to_sql('orden', con=engine, if_exists='append', index=False)\n",
    "orden_producto.to_sql('orden_producto', con=engine, if_exists='append', index=False)"
   ]
  },
  {
   "cell_type": "markdown",
   "id": "c8dd2023",
   "metadata": {},
   "source": []
  }
 ],
 "metadata": {
  "kernelspec": {
   "display_name": "Python 3",
   "language": "python",
   "name": "python3"
  },
  "language_info": {
   "codemirror_mode": {
    "name": "ipython",
    "version": 3
   },
   "file_extension": ".py",
   "mimetype": "text/x-python",
   "name": "python",
   "nbconvert_exporter": "python",
   "pygments_lexer": "ipython3",
   "version": "3.11.4"
  }
 },
 "nbformat": 4,
 "nbformat_minor": 5
}
